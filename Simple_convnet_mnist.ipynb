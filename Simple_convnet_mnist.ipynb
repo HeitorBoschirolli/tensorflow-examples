{
 "cells": [
  {
   "cell_type": "markdown",
   "metadata": {},
   "source": [
    "# Simple ConvNet model in tensorflow\n",
    "Construction of a simple convolutional network with Tensorflow to demonstrate the basic functions of the framework.\n",
    "The MNIST dataset is used for network testing."
   ]
  },
  {
   "cell_type": "code",
   "execution_count": 15,
   "metadata": {
    "collapsed": true
   },
   "outputs": [],
   "source": [
    "from __future__ import print_function\n",
    "\n",
    "from tensorflow.examples.tutorials.mnist import input_data\n",
    "from scipy import misc\n",
    "import tensorflow as tf\n",
    "import numpy as np\n",
    "import time"
   ]
  },
  {
   "cell_type": "markdown",
   "metadata": {},
   "source": [
    "Load MNIST data"
   ]
  },
  {
   "cell_type": "code",
   "execution_count": null,
   "metadata": {
    "collapsed": true
   },
   "outputs": [],
   "source": [
    "mnist = input_data.read_data_sets(\"MNIST_data/\", one_hot=True)"
   ]
  },
  {
   "cell_type": "code",
   "execution_count": 6,
   "metadata": {
    "scrolled": true
   },
   "outputs": [
    {
     "name": "stdout",
     "output_type": "stream",
     "text": [
      "=====Training set=====\n",
      "images: (55000, 784)\n",
      "labels: (55000, 10)\n",
      "\n",
      "=====Validation set=====\n",
      "images: (5000, 784)\n",
      "labels: (5000, 10)\n"
     ]
    }
   ],
   "source": [
    "X_train = mnist.train.images\n",
    "Y_train = mnist.train.labels\n",
    "X_valid = mnist.validation.images\n",
    "Y_valid = mnist.validation.labels\n",
    "\n",
    "print('=====Training set=====')\n",
    "print('images:', X_train.shape)\n",
    "print('labels:', Y_train.shape)\n",
    "print('\\n=====Validation set=====')\n",
    "print('images:', X_valid.shape)\n",
    "print('labels:', Y_valid.shape)"
   ]
  },
  {
   "cell_type": "markdown",
   "metadata": {},
   "source": [
    "We are using a convolutional network, so it is more convenient to leave the images in their original format, in the case of MNIST, 28x28."
   ]
  },
  {
   "cell_type": "code",
   "execution_count": 62,
   "metadata": {},
   "outputs": [
    {
     "name": "stdout",
     "output_type": "stream",
     "text": [
      "=====Training set=====\n",
      "images: (55000, 28, 28, 1)\n",
      "labels: (55000, 10)\n",
      "\n",
      "=====Validation set=====\n",
      "images: (5000, 28, 28, 1)\n",
      "labels: (5000, 10)\n"
     ]
    }
   ],
   "source": [
    "image_size = 28\n",
    "num_channels = 1\n",
    "\n",
    "def reformat(data):\n",
    "    return np.reshape(data, (-1, image_size, image_size, num_channels))\n",
    "\n",
    "X_train = reformat(train_dataset)\n",
    "X_valid = reformat(valid_dataset)\n",
    "\n",
    "print('=====Training set=====')\n",
    "print('images:', X_train.shape)\n",
    "print('labels:', Y_train.shape)\n",
    "print('\\n=====Validation set=====')\n",
    "print('images:', X_valid.shape)\n",
    "print('labels:', Y_valid.shape)"
   ]
  },
  {
   "cell_type": "markdown",
   "metadata": {},
   "source": [
    "(Optional) Display some MNIST images. Run multiple times for different results"
   ]
  },
  {
   "cell_type": "code",
   "execution_count": 86,
   "metadata": {},
   "outputs": [
    {
     "name": "stdout",
     "output_type": "stream",
     "text": [
      "52191\n"
     ]
    },
    {
     "data": {
      "image/png": "[encoded data removed]",
      "text/plain": [
       "<matplotlib.figure.Figure at 0x7ffa4c259950>"
      ]
     },
     "metadata": {},
     "output_type": "display_data"
    }
   ],
   "source": [
    "import matplotlib.pyplot as plt\n",
    "from random import randint\n",
    "index = randint(0, X_train.shape[0] - 1)\n",
    "print(index)\n",
    "plt.imshow(X_train[index].reshape(28, 28), cmap='gray_r')\n",
    "plt.show()"
   ]
  },
  {
   "cell_type": "markdown",
   "metadata": {},
   "source": [
    "Build the computational graph"
   ]
  },
  {
   "cell_type": "code",
   "execution_count": 84,
   "metadata": {
    "collapsed": true
   },
   "outputs": [],
   "source": [
    "batch_size = 100\n",
    "filter_size = 5\n",
    "depth1 = 6\n",
    "depth2 = 16\n",
    "fc_input_size = 400 # tentar calcular com o shape quando tiver tempo\n",
    "fc1_size = 120\n",
    "fc2_size = 84\n",
    "num_labels = 10\n",
    "\n",
    "graph = tf.Graph()\n",
    "\n",
    "with graph.as_default():\n",
    "    \n",
    "    # inputs\n",
    "    data = tf.placeholder(tf.float32, shape=(None, image_size, image_size, num_channels))\n",
    "    labels = tf.placeholder(tf.float32, shape=(None, num_labels))\n",
    "    \n",
    "    # convolutional layers learnable parameters\n",
    "    layer1_weights = tf.Variable(tf.truncated_normal([filter_size, filter_size, num_channels, depth1], stddev=0.1))\n",
    "    layer1_biases = tf.Variable(tf.zeros([depth1]))\n",
    "    \n",
    "    layer2_weights = tf.Variable(tf.truncated_normal([filter_size, filter_size, depth1, depth2], stddev=0.1))\n",
    "    layer2_biases = tf.Variable(tf.zeros([depth2]))\n",
    "    \n",
    "    # feedforward layers learnable parameters\n",
    "    layer3_weights = tf.Variable(tf.truncated_normal([fc_input_size, fc1_size], stddev=0.1))\n",
    "    layer3_biases = tf.Variable(tf.zeros([fc1_size]))\n",
    "    \n",
    "    layer4_weights = tf.Variable(tf.truncated_normal([fc1_size, fc2_size], stddev=0.1))\n",
    "    layer4_biases = tf.Variable(tf.zeros([fc2_size]))\n",
    "    \n",
    "    layer5_weights = tf.Variable(tf.truncated_normal([fc2_size, num_labels], stddev=0.1))\n",
    "    layer5_biases = tf.Variable(tf.zeros([num_labels]))\n",
    "    \n",
    "    # build the model\n",
    "    def model(data):\n",
    "        conv1 = tf.nn.relu(tf.add(tf.nn.conv2d(data, layer1_weights, [1, 1, 1, 1], padding='SAME'), layer1_biases))\n",
    "        pool1 = tf.nn.max_pool(conv1, [1, 2, 2, 1], [1, 2, 2, 1], padding='VALID')\n",
    "        \n",
    "        conv2 = tf.nn.relu(tf.add(tf.nn.conv2d(pool1, layer2_weights, [1, 1, 1, 1], padding='VALID'), layer2_biases))\n",
    "        pool2 = tf.nn.max_pool(conv2, [1, 2, 2, 1], [1, 2, 2, 1], padding='VALID')\n",
    "        \n",
    "        shape = pool2.get_shape().as_list()\n",
    "        reshaped = tf.reshape(pool2, [-1, 400])\n",
    "        fc1 = tf.nn.relu(tf.add(tf.matmul(reshaped, layer3_weights), layer3_biases))\n",
    "        \n",
    "        fc2 = tf.nn.relu(tf.add(tf.matmul(fc1, layer4_weights), layer4_biases))\n",
    "        \n",
    "        return tf.add(tf.matmul(fc2, layer5_weights), layer5_biases)\n",
    "    \n",
    "    \n",
    "    # optimizing\n",
    "    logits = model(data)\n",
    "    loss = tf.reduce_mean(tf.nn.softmax_cross_entropy_with_logits(logits = logits, labels = labels))\n",
    "    optmizer = tf.train.AdamOptimizer(0.001).minimize(loss)\n",
    "    \n",
    "    # prediction and accuracy\n",
    "    prediction = tf.nn.softmax(logits)\n",
    "    correct_prediction = tf.equal(tf.argmax(prediction,1), tf.argmax(labels,1))\n",
    "    model_accuracy = tf.reduce_mean(tf.cast(correct_prediction, tf.float32))"
   ]
  },
  {
   "cell_type": "markdown",
   "metadata": {},
   "source": [
    "Run the model"
   ]
  },
  {
   "cell_type": "code",
   "execution_count": 85,
   "metadata": {
    "scrolled": true
   },
   "outputs": [
    {
     "name": "stdout",
     "output_type": "stream",
     "text": [
      "epoch 1\n",
      "loss: 0.103588\n",
      "validation accuracy: 0.9642\n",
      "--- 0.295673596859 minutes ---\n",
      "\n",
      "epoch 2\n",
      "loss: 0.0538965\n",
      "validation accuracy: 0.9816\n",
      "--- 0.294170868397 minutes ---\n",
      "\n",
      "epoch 3\n",
      "loss: 0.0721029\n",
      "validation accuracy: 0.9824\n",
      "--- 0.289755634467 minutes ---\n",
      "\n",
      "epoch 4\n",
      "loss: 0.0239399\n",
      "validation accuracy: 0.9836\n",
      "--- 0.298274699847 minutes ---\n",
      "\n",
      "epoch 5\n",
      "loss: 0.010534\n",
      "validation accuracy: 0.9872\n",
      "--- 0.295529699326 minutes ---\n",
      "\n",
      "epoch 6\n",
      "loss: 0.0214702\n",
      "validation accuracy: 0.9874\n",
      "--- 0.292865184943 minutes ---\n",
      "\n",
      "epoch 7\n",
      "loss: 0.0293376\n",
      "validation accuracy: 0.9886\n",
      "--- 0.293183398247 minutes ---\n",
      "\n",
      "epoch 8\n",
      "loss: 0.0651265\n",
      "validation accuracy: 0.9848\n",
      "--- 0.294742063681 minutes ---\n",
      "\n",
      "epoch 9\n",
      "loss: 0.0224603\n",
      "validation accuracy: 0.99\n",
      "--- 0.290889648596 minutes ---\n",
      "\n",
      "epoch 10\n",
      "loss: 0.0161203\n",
      "validation accuracy: 0.98\n",
      "--- 0.294297949473 minutes ---\n",
      "\n",
      "epoch 11\n",
      "loss: 0.00339015\n",
      "validation accuracy: 0.9878\n",
      "--- 0.296473983924 minutes ---\n",
      "\n",
      "epoch 12\n",
      "loss: 0.00108593\n",
      "validation accuracy: 0.9894\n",
      "--- 0.291473066807 minutes ---\n",
      "\n",
      "epoch 13\n",
      "loss: 0.0220473\n",
      "validation accuracy: 0.9886\n",
      "--- 0.302804100513 minutes ---\n",
      "\n",
      "epoch 14\n",
      "loss: 0.00442631\n",
      "validation accuracy: 0.988\n",
      "--- 0.316272266706 minutes ---\n",
      "\n",
      "epoch 15\n",
      "loss: 0.00586475\n",
      "validation accuracy: 0.9912\n",
      "--- 0.302751886845 minutes ---\n",
      "\n",
      "epoch 16\n",
      "loss: 0.000981211\n",
      "validation accuracy: 0.99\n",
      "--- 0.30020468235 minutes ---\n",
      "\n",
      "epoch 17\n",
      "loss: 0.00106585\n",
      "validation accuracy: 0.9904\n",
      "--- 0.300549419721 minutes ---\n",
      "\n",
      "epoch 18\n",
      "loss: 0.000232383\n",
      "validation accuracy: 0.9924\n",
      "--- 0.300281433264 minutes ---\n",
      "\n",
      "epoch 19\n",
      "loss: 0.000934773\n",
      "validation accuracy: 0.9908\n",
      "--- 0.300144533316 minutes ---\n",
      "\n",
      "epoch 20\n",
      "loss: 0.00666693\n",
      "validation accuracy: 0.9908\n",
      "--- 0.300003782908 minutes ---\n",
      "\n",
      "test accuracy: 0.9886\n",
      "--- 0.300955518087 minutes ---\n"
     ]
    }
   ],
   "source": [
    "num_epochs = 20 # if taking too long to run, changing this to 10 should make little to no difference\n",
    "num_batches = int(mnist.train.num_examples/batch_size)\n",
    "\n",
    "with tf.Session(graph=graph) as session:\n",
    "    tf.global_variables_initializer().run()\n",
    "    \n",
    "    for epoch in range(num_epochs):\n",
    "        print('epoch', epoch + 1)\n",
    "        start_time = time.time()\n",
    "        for batch in range(num_batches):\n",
    "            batch_x, batch_y = mnist.train.next_batch(batch_size)\n",
    "            batch_x = reformat(batch_x)\n",
    "            x_valid = reformat(mnist.validation.images)\n",
    "            y_valid = mnist.validation.labels\n",
    "            _, l = session.run([optmizer, loss], feed_dict={data:batch_x, labels:batch_y})\n",
    "#             l = session.run(loss, feed_dict={data:batch_x, labels:batch_y})\n",
    "            valid_acc = session.run(model_accuracy, feed_dict={data:x_valid, labels:y_valid})\n",
    "        print('loss:', l)\n",
    "        print('validation accuracy:', valid_acc)\n",
    "        print('--- %s minutes ---' % ((time.time() - start_time)/60))\n",
    "        print()\n",
    "    \n",
    "    test_data = reformat(mnist.test.images)\n",
    "    test_acc = session.run(model_accuracy, feed_dict={data:test_data, labels:mnist.test.labels})\n",
    "    print('test accuracy:', test_acc)\n",
    "    print('--- %s minutes ---' % ((time.time() - start_time)/60))"
   ]
  }
 ],
 "metadata": {
  "kernelspec": {
   "display_name": "Python 2",
   "language": "python",
   "name": "python2"
  },
  "language_info": {
   "codemirror_mode": {
    "name": "ipython",
    "version": 2
   },
   "file_extension": ".py",
   "mimetype": "text/x-python",
   "name": "python",
   "nbconvert_exporter": "python",
   "pygments_lexer": "ipython2",
   "version": "2.7.13"
  }
 },
 "nbformat": 4,
 "nbformat_minor": 2
}
