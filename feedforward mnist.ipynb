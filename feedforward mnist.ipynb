{
 "cells": [
  {
   "cell_type": "code",
   "execution_count": 16,
   "metadata": {
    "collapsed": true
   },
   "outputs": [],
   "source": [
    "from __future__ import print_function\n",
    "\n",
    "from tensorflow.examples.tutorials.mnist import input_data\n",
    "import tensorflow as tf\n",
    "import numpy as np\n",
    "import time\n",
    "from sklearn.neural_network import MLPClassifier"
   ]
  },
  {
   "cell_type": "code",
   "execution_count": 2,
   "metadata": {},
   "outputs": [
    {
     "name": "stdout",
     "output_type": "stream",
     "text": [
      "Successfully downloaded train-images-idx3-ubyte.gz 9912422 bytes.\n",
      "Extracting MNIST_data/train-images-idx3-ubyte.gz\n",
      "Successfully downloaded train-labels-idx1-ubyte.gz 28881 bytes.\n",
      "Extracting MNIST_data/train-labels-idx1-ubyte.gz\n",
      "Successfully downloaded t10k-images-idx3-ubyte.gz 1648877 bytes.\n",
      "Extracting MNIST_data/t10k-images-idx3-ubyte.gz\n",
      "Successfully downloaded t10k-labels-idx1-ubyte.gz 4542 bytes.\n",
      "Extracting MNIST_data/t10k-labels-idx1-ubyte.gz\n",
      "(5000, 784)\n"
     ]
    }
   ],
   "source": [
    "mnist = input_data.read_data_sets('MNIST_data', one_hot=True)\n",
    "print(mnist.validation.images.shape)"
   ]
  },
  {
   "cell_type": "code",
   "execution_count": 3,
   "metadata": {},
   "outputs": [
    {
     "name": "stdout",
     "output_type": "stream",
     "text": [
      "(55000, 784)\n",
      "(55000, 10)\n",
      "(5000, 784)\n",
      "(5000, 10)\n"
     ]
    }
   ],
   "source": [
    "X_train = mnist.train.images\n",
    "Y_train = mnist.train.labels\n",
    "X_valid = mnist.validation.images\n",
    "Y_valid = mnist.validation.labels\n",
    "\n",
    "print (X_train.shape)\n",
    "print (Y_train.shape)\n",
    "print (X_valid.shape)\n",
    "print (Y_valid.shape)"
   ]
  },
  {
   "cell_type": "code",
   "execution_count": 25,
   "metadata": {
    "collapsed": true
   },
   "outputs": [],
   "source": [
    "input_size = 784\n",
    "hidden1_size = 386\n",
    "num_labels = 10\n",
    "\n",
    "graph = tf.Graph()\n",
    "with graph.as_default():\n",
    "\n",
    "    # inputs\n",
    "    X = tf.placeholder(tf.float32, [None, input_size])\n",
    "    Y = tf.placeholder(tf.float32, [None, num_labels])\n",
    "\n",
    "    # learnable parameters\n",
    "    W1 = tf.Variable(tf.truncated_normal([input_size, hidden1_size], stddev=0.1))\n",
    "    b1 = tf.Variable(tf.zeros([hidden1_size]))\n",
    "    \n",
    "    W2 = tf.Variable(tf.truncated_normal([hidden1_size, num_labels], stddev=0.1))\n",
    "    b2 = tf.Variable(tf.zeros([num_labels]))\n",
    "    \n",
    "    hidden1 = tf.nn.relu(tf.add(tf.matmul(X, W1), b1))\n",
    "    logits = tf.nn.softmax(tf.add(tf.matmul(hidden1, W2), b2))\n",
    "    \n",
    "    logits = model(X)\n",
    "    loss = tf.losses.log_loss(predictions=logits, labels=Y)\n",
    "    optmizer = tf.train.AdamOptimizer(0.01).minimize(loss)\n",
    "\n",
    "    # predictions and stuff\n",
    "    train_prediction = tf.nn.softmax(logits)\n",
    "    correct_prediction = tf.equal(tf.argmax(train_prediction,1), tf.argmax(Y,1))\n",
    "    accuracy = tf.reduce_mean(tf.cast(correct_prediction, tf.float32))"
   ]
  },
  {
   "cell_type": "code",
   "execution_count": 26,
   "metadata": {
    "scrolled": true
   },
   "outputs": [
    {
     "name": "stdout",
     "output_type": "stream",
     "text": [
      "step: 0\n",
      "loss: 0.370377\n",
      "validation accuracy: 0.247\n",
      "\n",
      "step: 100\n",
      "loss: 0.0274133\n",
      "validation accuracy: 0.947\n",
      "\n",
      "step: 200\n",
      "loss: 0.0472542\n",
      "validation accuracy: 0.9498\n",
      "\n",
      "step: 300\n",
      "loss: 0.039856\n",
      "validation accuracy: 0.9584\n",
      "\n",
      "step: 400\n",
      "loss: 0.0148358\n",
      "validation accuracy: 0.9668\n",
      "\n",
      "step: 500\n",
      "loss: 0.0116441\n",
      "validation accuracy: 0.9676\n",
      "\n",
      "step: 600\n",
      "loss: 0.0312608\n",
      "validation accuracy: 0.9622\n",
      "\n",
      "step: 700\n",
      "loss: 0.00835171\n",
      "validation accuracy: 0.973\n",
      "\n",
      "step: 800\n",
      "loss: 0.0191932\n",
      "validation accuracy: 0.9638\n",
      "\n",
      "step: 900\n",
      "loss: 0.0168503\n",
      "validation accuracy: 0.9712\n",
      "\n",
      "step: 1000\n",
      "loss: 0.00522585\n",
      "validation accuracy: 0.9734\n",
      "\n",
      "step: 1100\n",
      "loss: 0.0221323\n",
      "validation accuracy: 0.9698\n",
      "\n",
      "step: 1200\n",
      "loss: 0.00890774\n",
      "validation accuracy: 0.9696\n",
      "\n",
      "step: 1300\n",
      "loss: 0.00628328\n",
      "validation accuracy: 0.9678\n",
      "\n",
      "step: 1400\n",
      "loss: 0.00884434\n",
      "validation accuracy: 0.961\n",
      "\n",
      "step: 1500\n",
      "loss: 0.0076403\n",
      "validation accuracy: 0.9682\n",
      "\n",
      "step: 1600\n",
      "loss: 0.00596051\n",
      "validation accuracy: 0.9722\n",
      "\n",
      "step: 1700\n",
      "loss: 0.0204315\n",
      "validation accuracy: 0.9722\n",
      "\n",
      "step: 1800\n",
      "loss: 0.00466356\n",
      "validation accuracy: 0.965\n",
      "\n",
      "step: 1900\n",
      "loss: 0.0167553\n",
      "validation accuracy: 0.972\n",
      "\n",
      "step: 2000\n",
      "loss: 0.00909386\n",
      "validation accuracy: 0.9726\n",
      "\n",
      "step: 2100\n",
      "loss: 0.0248419\n",
      "validation accuracy: 0.9698\n",
      "\n",
      "step: 2200\n",
      "loss: 0.0167952\n",
      "validation accuracy: 0.9698\n",
      "\n",
      "step: 2300\n",
      "loss: 0.00875683\n",
      "validation accuracy: 0.9732\n",
      "\n",
      "step: 2400\n",
      "loss: 0.0231186\n",
      "validation accuracy: 0.9718\n",
      "\n",
      "step: 2500\n",
      "loss: 0.0185364\n",
      "validation accuracy: 0.9718\n",
      "\n",
      "step: 2600\n",
      "loss: 0.0064244\n",
      "validation accuracy: 0.9694\n",
      "\n",
      "step: 2700\n",
      "loss: 0.0056794\n",
      "validation accuracy: 0.972\n",
      "\n",
      "step: 2800\n",
      "loss: 0.00709624\n",
      "validation accuracy: 0.9726\n",
      "\n",
      "step: 2900\n",
      "loss: 0.00506711\n",
      "validation accuracy: 0.9686\n",
      "\n",
      "step: 3000\n",
      "loss: 0.00101512\n",
      "validation accuracy: 0.9728\n",
      "\n",
      "test accuracy: 0.9734\n",
      "--- 0.350639633338 minutes ---\n"
     ]
    }
   ],
   "source": [
    "start_time = time.time()\n",
    "\n",
    "num_steps = 3001\n",
    "batch_size = 128\n",
    "\n",
    "with tf.Session(graph=graph) as session:\n",
    "    tf.global_variables_initializer().run()\n",
    "    \n",
    "    for step in range(num_steps):\n",
    "        batch_x, batch_y = mnist.train.next_batch(batch_size)\n",
    "        x_valid = mnist.validation.images\n",
    "        y_valid = mnist.validation.labels\n",
    "        _, l = session.run([optmizer, loss], feed_dict={X:batch_x, Y:batch_y})\n",
    "        valid_acc = session.run(accuracy, feed_dict={X:x_valid, Y:y_valid})\n",
    "        \n",
    "        if (step % 100 == 0):\n",
    "            print('step:', step)\n",
    "            print('loss:', l)\n",
    "            print('validation accuracy:', valid_acc)\n",
    "            print()\n",
    "    \n",
    "    test_acc = session.run(accuracy, feed_dict={X:mnist.test.images, Y:mnist.test.labels})\n",
    "    print('test accuracy:', test_acc)\n",
    "    print('--- %s minutes ---' % ((time.time() - start_time)/60))"
   ]
  },
  {
   "cell_type": "code",
   "execution_count": 27,
   "metadata": {
    "scrolled": true
   },
   "outputs": [
    {
     "name": "stdout",
     "output_type": "stream",
     "text": [
      "Iteration 1, loss = 0.45478057\n",
      "Iteration 2, loss = 0.20679733\n",
      "Iteration 3, loss = 0.16290416\n",
      "Iteration 4, loss = 0.13028462\n",
      "Iteration 5, loss = 0.11645732\n",
      "Iteration 6, loss = 0.09563349\n",
      "Iteration 7, loss = 0.08649082\n",
      "Iteration 8, loss = 0.08442985\n",
      "Iteration 9, loss = 0.07492662\n",
      "Iteration 10, loss = 0.07841346\n",
      "Iteration 11, loss = 0.06695550\n",
      "Iteration 12, loss = 0.06230151\n",
      "Iteration 13, loss = 0.06616799\n",
      "Iteration 14, loss = 0.05949895\n",
      "Iteration 15, loss = 0.06242494\n",
      "Iteration 16, loss = 0.05854289\n",
      "Iteration 17, loss = 0.05174556\n",
      "Iteration 18, loss = 0.04417830\n",
      "Iteration 19, loss = 0.05818715\n",
      "Iteration 20, loss = 0.04097696\n",
      "Iteration 21, loss = 0.04677009\n",
      "Iteration 22, loss = 0.05024340\n",
      "Iteration 23, loss = 0.04411735\n",
      "Training loss did not improve more than tol=0.000000 for two consecutive epochs. Stopping.\n"
     ]
    },
    {
     "data": {
      "text/plain": [
       "0.96220000000000006"
      ]
     },
     "execution_count": 27,
     "metadata": {},
     "output_type": "execute_result"
    }
   ],
   "source": [
    "clf = MLPClassifier(hidden_layer_sizes=(386),\n",
    "                    activation='relu',\n",
    "                    solver='adam',\n",
    "                    alpha=0, # not using regularization\n",
    "                    batch_size=128,\n",
    "                    learning_rate='constant',\n",
    "                    learning_rate_init=0.01,\n",
    "                    max_iter=50,\n",
    "                    shuffle=False,\n",
    "                    tol=0,\n",
    "                    verbose=True,\n",
    "                    )\n",
    "clf.fit(X_train, Y_train)\n",
    "clf.score(X_valid, Y_valid)"
   ]
  },
  {
   "cell_type": "code",
   "execution_count": null,
   "metadata": {
    "collapsed": true
   },
   "outputs": [],
   "source": []
  },
  {
   "cell_type": "code",
   "execution_count": null,
   "metadata": {
    "collapsed": true
   },
   "outputs": [],
   "source": []
  },
  {
   "cell_type": "code",
   "execution_count": null,
   "metadata": {
    "collapsed": true
   },
   "outputs": [],
   "source": []
  },
  {
   "cell_type": "code",
   "execution_count": null,
   "metadata": {
    "collapsed": true
   },
   "outputs": [],
   "source": []
  }
 ],
 "metadata": {
  "kernelspec": {
   "display_name": "Python 2",
   "language": "python",
   "name": "python2"
  },
  "language_info": {
   "codemirror_mode": {
    "name": "ipython",
    "version": 2
   },
   "file_extension": ".py",
   "mimetype": "text/x-python",
   "name": "python",
   "nbconvert_exporter": "python",
   "pygments_lexer": "ipython2",
   "version": "2.7.13"
  }
 },
 "nbformat": 4,
 "nbformat_minor": 2
}
