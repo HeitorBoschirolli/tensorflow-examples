{
 "cells": [
  {
   "cell_type": "code",
   "execution_count": 1,
   "metadata": {
    "collapsed": true
   },
   "outputs": [],
   "source": [
    "from __future__ import print_function\n",
    "\n",
    "from tensorflow.examples.tutorials.mnist import input_data\n",
    "import tensorflow as tf\n",
    "import numpy as np\n",
    "import time"
   ]
  },
  {
   "cell_type": "code",
   "execution_count": 2,
   "metadata": {},
   "outputs": [
    {
     "name": "stdout",
     "output_type": "stream",
     "text": [
      "Successfully downloaded train-images-idx3-ubyte.gz 9912422 bytes.\n",
      "Extracting MNIST_data/train-images-idx3-ubyte.gz\n",
      "Successfully downloaded train-labels-idx1-ubyte.gz 28881 bytes.\n",
      "Extracting MNIST_data/train-labels-idx1-ubyte.gz\n",
      "Successfully downloaded t10k-images-idx3-ubyte.gz 1648877 bytes.\n",
      "Extracting MNIST_data/t10k-images-idx3-ubyte.gz\n",
      "Successfully downloaded t10k-labels-idx1-ubyte.gz 4542 bytes.\n",
      "Extracting MNIST_data/t10k-labels-idx1-ubyte.gz\n",
      "(5000, 784)\n"
     ]
    }
   ],
   "source": [
    "mnist = input_data.read_data_sets('MNIST_data', one_hot=True)\n",
    "print(mnist.validation.images.shape)"
   ]
  },
  {
   "cell_type": "code",
   "execution_count": 3,
   "metadata": {},
   "outputs": [
    {
     "name": "stdout",
     "output_type": "stream",
     "text": [
      "(55000, 784)\n",
      "(55000, 10)\n",
      "(5000, 784)\n",
      "(5000, 10)\n"
     ]
    }
   ],
   "source": [
    "X_train = mnist.train.images\n",
    "Y_train = mnist.train.labels\n",
    "X_valid = mnist.validation.images\n",
    "Y_valid = mnist.validation.labels\n",
    "\n",
    "print (X_train.shape)\n",
    "print (Y_train.shape)\n",
    "print (X_valid.shape)\n",
    "print (Y_valid.shape)"
   ]
  },
  {
   "cell_type": "code",
   "execution_count": 10,
   "metadata": {
    "collapsed": true
   },
   "outputs": [],
   "source": [
    "input_size = 784\n",
    "hidden1_size = 386\n",
    "num_labels = 10\n",
    "\n",
    "graph = tf.Graph()\n",
    "with graph.as_default():\n",
    "\n",
    "    # inputs\n",
    "    X = tf.placeholder(tf.float32, [None, input_size])\n",
    "    Y = tf.placeholder(tf.float32, [None, num_labels])\n",
    "\n",
    "    # learnable parameters\n",
    "    W1 = tf.Variable(tf.truncated_normal([input_size, hidden1_size], stddev=0.1))\n",
    "    b1 = tf.Variable(tf.zeros([hidden1_size]))\n",
    "    \n",
    "    W2 = tf.Variable(tf.truncated_normal([hidden1_size, num_labels], stddev=0.1))\n",
    "    b2 = tf.Variable(tf.zeros([num_labels]))\n",
    "    \n",
    "    def model(data):\n",
    "        hidden1 = tf.nn.relu(tf.add(tf.matmul(data, W1), b1))\n",
    "        return tf.nn.softmax(tf.add(tf.matmul(hidden1, W2), b2))\n",
    "\n",
    "    logits = model(X)\n",
    "    loss = tf.reduce_mean(tf.nn.softmax_cross_entropy_with_logits(logits=logits, labels=Y))\n",
    "    optmizer = tf.train.AdamOptimizer(0.01).minimize(loss)\n",
    "\n",
    "    # predictions and stuff\n",
    "    train_prediction = tf.nn.softmax(logits)\n",
    "    correct_prediction = tf.equal(tf.argmax(train_prediction,1), tf.argmax(Y,1))\n",
    "    accuracy = tf.reduce_mean(tf.cast(correct_prediction, tf.float32))"
   ]
  },
  {
   "cell_type": "code",
   "execution_count": 12,
   "metadata": {
    "scrolled": true
   },
   "outputs": [
    {
     "name": "stdout",
     "output_type": "stream",
     "text": [
      "step: 0\n",
      "loss: 2.32902\n",
      "validation accuracy: 0.336\n",
      "\n",
      "step: 100\n",
      "loss: 1.68965\n",
      "validation accuracy: 0.7234\n",
      "\n",
      "step: 200\n",
      "loss: 1.75163\n",
      "validation accuracy: 0.7298\n",
      "\n",
      "step: 300\n",
      "loss: 1.70269\n",
      "validation accuracy: 0.7334\n",
      "\n",
      "step: 400\n",
      "loss: 1.67338\n",
      "validation accuracy: 0.7318\n",
      "\n",
      "step: 500\n",
      "loss: 1.71571\n",
      "validation accuracy: 0.744\n",
      "\n",
      "step: 600\n",
      "loss: 1.73022\n",
      "validation accuracy: 0.7378\n",
      "\n",
      "step: 700\n",
      "loss: 1.71096\n",
      "validation accuracy: 0.7376\n",
      "\n",
      "step: 800\n",
      "loss: 1.68259\n",
      "validation accuracy: 0.7386\n",
      "\n",
      "step: 900\n",
      "loss: 1.77945\n",
      "validation accuracy: 0.742\n",
      "\n",
      "step: 1000\n",
      "loss: 1.71158\n",
      "validation accuracy: 0.72\n",
      "\n",
      "step: 1100\n",
      "loss: 1.7345\n",
      "validation accuracy: 0.7454\n",
      "\n",
      "step: 1200\n",
      "loss: 1.71129\n",
      "validation accuracy: 0.75\n",
      "\n",
      "step: 1300\n",
      "loss: 1.71109\n",
      "validation accuracy: 0.7554\n",
      "\n",
      "step: 1400\n",
      "loss: 1.66357\n",
      "validation accuracy: 0.7452\n",
      "\n",
      "step: 1500\n",
      "loss: 1.76129\n",
      "validation accuracy: 0.7462\n",
      "\n",
      "step: 1600\n",
      "loss: 1.69728\n",
      "validation accuracy: 0.7438\n",
      "\n",
      "step: 1700\n",
      "loss: 1.6229\n",
      "validation accuracy: 0.8124\n",
      "\n",
      "step: 1800\n",
      "loss: 1.59136\n",
      "validation accuracy: 0.8932\n",
      "\n",
      "step: 1900\n",
      "loss: 1.49266\n",
      "validation accuracy: 0.9314\n",
      "\n",
      "step: 2000\n",
      "loss: 1.53115\n",
      "validation accuracy: 0.9168\n",
      "\n",
      "step: 2100\n",
      "loss: 1.54728\n",
      "validation accuracy: 0.9354\n",
      "\n",
      "step: 2200\n",
      "loss: 1.53109\n",
      "validation accuracy: 0.9418\n",
      "\n",
      "step: 2300\n",
      "loss: 1.51216\n",
      "validation accuracy: 0.9308\n",
      "\n",
      "step: 2400\n",
      "loss: 1.52816\n",
      "validation accuracy: 0.9438\n",
      "\n",
      "step: 2500\n",
      "loss: 1.49115\n",
      "validation accuracy: 0.9512\n",
      "\n",
      "step: 2600\n",
      "loss: 1.55115\n",
      "validation accuracy: 0.9388\n",
      "\n",
      "step: 2700\n",
      "loss: 1.50587\n",
      "validation accuracy: 0.9398\n",
      "\n",
      "step: 2800\n",
      "loss: 1.54246\n",
      "validation accuracy: 0.9426\n",
      "\n",
      "step: 2900\n",
      "loss: 1.52417\n",
      "validation accuracy: 0.9458\n",
      "\n",
      "step: 3000\n",
      "loss: 1.55292\n",
      "validation accuracy: 0.9572\n",
      "\n",
      "test accuracy: 0.9519\n",
      "--- 0.334156882763 minutes ---\n"
     ]
    }
   ],
   "source": [
    "start_time = time.time()\n",
    "\n",
    "num_steps = 3001\n",
    "batch_size = 100\n",
    "\n",
    "with tf.Session(graph=graph) as session:\n",
    "    tf.global_variables_initializer().run()\n",
    "    \n",
    "    for step in range(num_steps):\n",
    "        batch_x, batch_y = mnist.train.next_batch(batch_size)\n",
    "        x_valid = mnist.validation.images\n",
    "        y_valid = mnist.validation.labels\n",
    "        _, l = session.run([optmizer, loss], feed_dict={X:batch_x, Y:batch_y})\n",
    "        valid_acc = session.run(accuracy, feed_dict={X:x_valid, Y:y_valid})\n",
    "        \n",
    "        if (step % 100 == 0):\n",
    "            print('step:', step)\n",
    "            print('loss:', l)\n",
    "            print('validation accuracy:', valid_acc)\n",
    "            print()\n",
    "    \n",
    "    test_acc = session.run(accuracy, feed_dict={X:mnist.test.images, Y:mnist.test.labels})\n",
    "    print('test accuracy:', test_acc)\n",
    "    print('--- %s minutes ---' % ((time.time() - start_time)/60))"
   ]
  },
  {
   "cell_type": "code",
   "execution_count": null,
   "metadata": {
    "collapsed": true
   },
   "outputs": [],
   "source": []
  },
  {
   "cell_type": "code",
   "execution_count": null,
   "metadata": {
    "collapsed": true
   },
   "outputs": [],
   "source": []
  },
  {
   "cell_type": "code",
   "execution_count": null,
   "metadata": {
    "collapsed": true
   },
   "outputs": [],
   "source": []
  },
  {
   "cell_type": "code",
   "execution_count": null,
   "metadata": {
    "collapsed": true
   },
   "outputs": [],
   "source": []
  },
  {
   "cell_type": "code",
   "execution_count": null,
   "metadata": {
    "collapsed": true
   },
   "outputs": [],
   "source": []
  },
  {
   "cell_type": "code",
   "execution_count": null,
   "metadata": {
    "collapsed": true
   },
   "outputs": [],
   "source": []
  }
 ],
 "metadata": {
  "kernelspec": {
   "display_name": "Python 2",
   "language": "python",
   "name": "python2"
  },
  "language_info": {
   "codemirror_mode": {
    "name": "ipython",
    "version": 2
   },
   "file_extension": ".py",
   "mimetype": "text/x-python",
   "name": "python",
   "nbconvert_exporter": "python",
   "pygments_lexer": "ipython2",
   "version": "2.7.13"
  }
 },
 "nbformat": 4,
 "nbformat_minor": 2
}
