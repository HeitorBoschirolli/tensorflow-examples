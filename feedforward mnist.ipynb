{
 "cells": [
  {
   "cell_type": "code",
   "execution_count": 1,
   "metadata": {
    "collapsed": true
   },
   "outputs": [],
   "source": [
    "from __future__ import print_function\n",
    "\n",
    "from tensorflow.examples.tutorials.mnist import input_data\n",
    "import tensorflow as tf\n",
    "import numpy as np\n",
    "import time"
   ]
  },
  {
   "cell_type": "code",
   "execution_count": 2,
   "metadata": {},
   "outputs": [
    {
     "name": "stdout",
     "output_type": "stream",
     "text": [
      "Extracting MNIST_data/train-images-idx3-ubyte.gz\n",
      "Extracting MNIST_data/train-labels-idx1-ubyte.gz\n",
      "Extracting MNIST_data/t10k-images-idx3-ubyte.gz\n",
      "Extracting MNIST_data/t10k-labels-idx1-ubyte.gz\n",
      "(5000, 784)\n"
     ]
    }
   ],
   "source": [
    "mnist = input_data.read_data_sets('MNIST_data', one_hot=True)\n",
    "print(mnist.validation.images.shape)"
   ]
  },
  {
   "cell_type": "code",
   "execution_count": 5,
   "metadata": {
    "collapsed": true
   },
   "outputs": [],
   "source": [
    "input_size = 784\n",
    "hidden1_size = 386\n",
    "num_labels = 10\n",
    "\n",
    "graph = tf.Graph()\n",
    "with graph.as_default():\n",
    "\n",
    "    # inputs\n",
    "    x_train_data = tf.placeholder(tf.float32, [None, input_size])\n",
    "    y_train_labels = tf.placeholder(tf.float32, [None, num_labels])\n",
    "\n",
    "    # learnable parameters\n",
    "    layer1_weights = tf.Variable(tf.truncated_normal([input_size, hidden1_size], stddev=0.1))\n",
    "    layer1_biases = tf.Variable(tf.zeros([hidden1_size]))\n",
    "    \n",
    "    layer2_weights = tf.Variable(tf.truncated_normal([hidden1_size, num_labels]))\n",
    "    layer2_biases = tf.Variable(tf.zeros([num_labels]))\n",
    "    \n",
    "    def model(data):\n",
    "        hidden1 = tf.nn.relu(tf.add(tf.matmul(data, layer1_weights), layer1_biases))\n",
    "        return tf.nn.softmax(tf.add(tf.matmul(hidden1, layer2_weights), layer2_biases))\n",
    "\n",
    "    logits = model(x_train_data)\n",
    "    loss = tf.reduce_mean(tf.nn.softmax_cross_entropy_with_logits(logits=logits, labels=y_train_labels))\n",
    "    optmizer = tf.train.AdagradOptimizer(0.01).minimize(loss)\n",
    "\n",
    "    # predictions and stuff\n",
    "    train_prediction = tf.nn.softmax(logits)\n",
    "    correct_prediction = tf.equal(tf.argmax(train_prediction,1), tf.argmax(y_train_labels,1))\n",
    "    accuracy = tf.reduce_mean(tf.cast(correct_prediction, tf.float32))"
   ]
  },
  {
   "cell_type": "code",
   "execution_count": 6,
   "metadata": {
    "scrolled": true
   },
   "outputs": [
    {
     "name": "stdout",
     "output_type": "stream",
     "text": [
      "step: 0\n",
      "loss: 2.33343\n",
      "validation accuracy: 0.0998\n",
      "\n",
      "step: 100\n",
      "loss: 2.12146\n",
      "validation accuracy: 0.3978\n",
      "\n",
      "step: 200\n",
      "loss: 1.9921\n",
      "validation accuracy: 0.5118\n",
      "\n",
      "step: 300\n",
      "loss: 1.94025\n",
      "validation accuracy: 0.5406\n",
      "\n",
      "step: 400\n",
      "loss: 1.89318\n",
      "validation accuracy: 0.5482\n",
      "\n",
      "step: 500\n",
      "loss: 2.01855\n",
      "validation accuracy: 0.5532\n",
      "\n",
      "step: 600\n",
      "loss: 1.90102\n",
      "validation accuracy: 0.5582\n",
      "\n",
      "step: 700\n",
      "loss: 1.91816\n",
      "validation accuracy: 0.5614\n",
      "\n",
      "step: 800\n",
      "loss: 1.97374\n",
      "validation accuracy: 0.5632\n",
      "\n",
      "step: 900\n",
      "loss: 1.8524\n",
      "validation accuracy: 0.567\n",
      "\n",
      "step: 1000\n",
      "loss: 1.92653\n",
      "validation accuracy: 0.568\n",
      "\n",
      "step: 1100\n",
      "loss: 1.8865\n",
      "validation accuracy: 0.5686\n",
      "\n",
      "step: 1200\n",
      "loss: 1.95799\n",
      "validation accuracy: 0.5684\n",
      "\n",
      "step: 1300\n",
      "loss: 1.90512\n",
      "validation accuracy: 0.572\n",
      "\n",
      "step: 1400\n",
      "loss: 1.89645\n",
      "validation accuracy: 0.5726\n",
      "\n",
      "step: 1500\n",
      "loss: 1.93434\n",
      "validation accuracy: 0.573\n",
      "\n",
      "step: 1600\n",
      "loss: 1.86972\n",
      "validation accuracy: 0.575\n",
      "\n",
      "step: 1700\n",
      "loss: 1.89006\n",
      "validation accuracy: 0.5744\n",
      "\n",
      "step: 1800\n",
      "loss: 1.88034\n",
      "validation accuracy: 0.5752\n",
      "\n",
      "step: 1900\n",
      "loss: 1.86497\n",
      "validation accuracy: 0.5762\n",
      "\n",
      "step: 2000\n",
      "loss: 1.84653\n",
      "validation accuracy: 0.5768\n",
      "\n",
      "step: 2100\n",
      "loss: 1.83138\n",
      "validation accuracy: 0.577\n",
      "\n",
      "step: 2200\n",
      "loss: 1.9074\n",
      "validation accuracy: 0.578\n",
      "\n",
      "step: 2300\n",
      "loss: 1.91487\n",
      "validation accuracy: 0.5772\n",
      "\n",
      "step: 2400\n",
      "loss: 1.88886\n",
      "validation accuracy: 0.5786\n",
      "\n",
      "step: 2500\n",
      "loss: 1.96832\n",
      "validation accuracy: 0.58\n",
      "\n",
      "step: 2600\n",
      "loss: 1.87516\n",
      "validation accuracy: 0.5802\n",
      "\n",
      "step: 2700\n",
      "loss: 1.91821\n",
      "validation accuracy: 0.579\n",
      "\n",
      "step: 2800\n",
      "loss: 1.85552\n",
      "validation accuracy: 0.5812\n",
      "\n",
      "step: 2900\n",
      "loss: 1.8967\n",
      "validation accuracy: 0.5804\n",
      "\n",
      "step: 3000\n",
      "loss: 1.85605\n",
      "validation accuracy: 0.5814\n",
      "\n",
      "test accuracy: 0.573\n",
      "--- 5.79369835059 minutes ---\n"
     ]
    }
   ],
   "source": [
    "start_time = time.time()\n",
    "\n",
    "num_steps = 3001\n",
    "batch_size = 100\n",
    "\n",
    "with tf.Session(graph=graph) as session:\n",
    "    tf.global_variables_initializer().run()\n",
    "    \n",
    "    for step in range(num_steps):\n",
    "        batch_x, batch_y = mnist.train.next_batch(batch_size)\n",
    "        x_valid = mnist.validation.images\n",
    "        y_valid = mnist.validation.labels\n",
    "        _ = session.run(optmizer, feed_dict={x_train_data:batch_x, y_train_labels:batch_y})\n",
    "        l = session.run(loss, feed_dict={x_train_data:batch_x, y_train_labels:batch_y})\n",
    "        valid_acc = session.run(accuracy, feed_dict={x_train_data:x_valid, y_train_labels:y_valid})\n",
    "        \n",
    "        if (step % 100 == 0):\n",
    "            print('step:', step)\n",
    "            print('loss:', l)\n",
    "            print('validation accuracy:', valid_acc)\n",
    "            print()\n",
    "    \n",
    "    test_acc = session.run(accuracy, feed_dict={x_train_data:mnist.test.images, y_train_labels:mnist.test.labels})\n",
    "    print('test accuracy:', test_acc)\n",
    "    print('--- %s minutes ---' % ((time.time() - start_time)/60))"
   ]
  },
  {
   "cell_type": "code",
   "execution_count": null,
   "metadata": {
    "collapsed": true
   },
   "outputs": [],
   "source": []
  },
  {
   "cell_type": "code",
   "execution_count": null,
   "metadata": {
    "collapsed": true
   },
   "outputs": [],
   "source": []
  },
  {
   "cell_type": "code",
   "execution_count": null,
   "metadata": {
    "collapsed": true
   },
   "outputs": [],
   "source": []
  },
  {
   "cell_type": "code",
   "execution_count": null,
   "metadata": {
    "collapsed": true
   },
   "outputs": [],
   "source": []
  },
  {
   "cell_type": "code",
   "execution_count": null,
   "metadata": {
    "collapsed": true
   },
   "outputs": [],
   "source": []
  },
  {
   "cell_type": "code",
   "execution_count": null,
   "metadata": {
    "collapsed": true
   },
   "outputs": [],
   "source": []
  }
 ],
 "metadata": {
  "kernelspec": {
   "display_name": "Python 2",
   "language": "python",
   "name": "python2"
  },
  "language_info": {
   "codemirror_mode": {
    "name": "ipython",
    "version": 2
   },
   "file_extension": ".py",
   "mimetype": "text/x-python",
   "name": "python",
   "nbconvert_exporter": "python",
   "pygments_lexer": "ipython2",
   "version": "2.7.14"
  }
 },
 "nbformat": 4,
 "nbformat_minor": 2
}
